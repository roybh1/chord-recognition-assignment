{
 "cells": [
  {
   "cell_type": "code",
   "execution_count": 1,
   "metadata": {},
   "outputs": [],
   "source": [
    "%reload_ext autoreload\n",
    "%autoreload 2\n",
    "import os\n",
    "import pandas as pd\n",
    "from src.training import run_training_pipeline, get_predictions\n",
    "from src.evaluation import evaluate_all_songs, plot_chord_transition_counts, plot_grouped_chord_timeline"
   ]
  },
  {
   "cell_type": "code",
   "execution_count": 2,
   "metadata": {},
   "outputs": [],
   "source": [
    "def evaluate(results: dict[str, pd.DataFrame], example_song_name: str = \"Twist_And_Shout\"):\n",
    "    evaluate_all_songs(results)\n",
    "    plot_chord_transition_counts(results)\n",
    "    plot_grouped_chord_timeline(results[example_song_name], example_song_name)"
   ]
  },
  {
   "cell_type": "code",
   "execution_count": null,
   "metadata": {},
   "outputs": [],
   "source": [
    "import numpy as np\n",
    "\n",
    "songs = []\n",
    "for file_name in os.listdir('lab_and_audio_files'):\n",
    "    if(file_name.endswith('.mp3')):\n",
    "        song_name = file_name[:-4]\n",
    "        songs.append(song_name)\n",
    "\n",
    "# random 90 percent of the songs\n",
    "train_songs = np.random.choice(songs, int(len(songs)*0.9), replace=False)\n",
    "validation_songs = [song for song in songs if song not in train_songs]"
   ]
  },
  {
   "cell_type": "markdown",
   "metadata": {},
   "source": [
    "# Baseline"
   ]
  },
  {
   "cell_type": "code",
   "execution_count": null,
   "metadata": {},
   "outputs": [
    {
     "name": "stderr",
     "output_type": "stream",
     "text": [
      "[src/libmpg123/id3.c:process_comment():587] error: No comment text / valid description?\n"
     ]
    }
   ],
   "source": [
    "h_markov_model, ix_2_chord = run_training_pipeline(train_songs)\n",
    "base_results = {song: get_predictions(song, h_markov_model, ix_2_chord) for song in validation_songs}\n",
    "evaluate(base_results, validation_songs[0])"
   ]
  },
  {
   "cell_type": "markdown",
   "metadata": {},
   "source": [
    "# Removing Percussive Information"
   ]
  },
  {
   "cell_type": "code",
   "execution_count": null,
   "metadata": {},
   "outputs": [],
   "source": [
    "h_markov_model, ix_2_chord = run_training_pipeline(train_songs, remove_percussive=True)\n",
    "no_percussive_results = {song: get_predictions(song, h_markov_model, ix_2_chord, remove_percussive=True) for song in validation_songs}\n",
    "evaluate(no_percussive_results, validation_songs[0])"
   ]
  },
  {
   "cell_type": "markdown",
   "metadata": {},
   "source": [
    "# Pooling"
   ]
  },
  {
   "cell_type": "code",
   "execution_count": null,
   "metadata": {},
   "outputs": [],
   "source": [
    "h_markov_model, ix_2_chord = run_training_pipeline(train_songs, remove_percussive=True)\n",
    "pooling_results = {\n",
    "    song: get_predictions(\n",
    "        song, h_markov_model, ix_2_chord, remove_percussive=True, pool_to_beats=True\n",
    "    )\n",
    "    for song in validation_songs\n",
    "}\n",
    "evaluate(pooling_results, validation_songs[0])"
   ]
  },
  {
   "cell_type": "markdown",
   "metadata": {},
   "source": [
    "# OpenL3"
   ]
  },
  {
   "cell_type": "code",
   "execution_count": null,
   "metadata": {},
   "outputs": [],
   "source": [
    "h_markov_model, ix_2_chord = run_training_pipeline(train_songs, remove_percussive=True, add_openl3=True)\n",
    "l3_results = {\n",
    "    song: get_predictions(\n",
    "        song, h_markov_model, ix_2_chord, remove_percussive=True, pool_to_beats=True, add_openl3=True\n",
    "    )\n",
    "    for song in validation_songs\n",
    "}\n",
    "evaluate(l3_results, validation_songs[0])"
   ]
  },
  {
   "cell_type": "code",
   "execution_count": null,
   "metadata": {},
   "outputs": [],
   "source": []
  }
 ],
 "metadata": {
  "kernelspec": {
   "display_name": "chord-recognition",
   "language": "python",
   "name": "python3"
  },
  "language_info": {
   "codemirror_mode": {
    "name": "ipython",
    "version": 3
   },
   "file_extension": ".py",
   "mimetype": "text/x-python",
   "name": "python",
   "nbconvert_exporter": "python",
   "pygments_lexer": "ipython3",
   "version": "3.11.9"
  }
 },
 "nbformat": 4,
 "nbformat_minor": 2
}
